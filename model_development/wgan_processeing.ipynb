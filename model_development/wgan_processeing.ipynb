{
  "cells": [
    {
      "cell_type": "code",
      "execution_count": 1,
      "metadata": {
        "id": "9Es5payQewqe"
      },
      "outputs": [],
      "source": [
        "import pandas as pd\n",
        "import numpy as np\n",
        "import tensorflow as tf\n",
        "from tensorflow.keras.layers import Dense, BatchNormalization, LeakyReLU, Input\n",
        "from tensorflow.keras.models import Model\n",
        "from tensorflow.keras.optimizers import RMSprop"
      ]
    },
    {
      "cell_type": "code",
      "execution_count": 2,
      "metadata": {
        "id": "iIDqMYalfArj"
      },
      "outputs": [],
      "source": [
        "# Load the preprocessed dataset\n",
        "data = pd.read_csv(\"wgan_dataset.csv\")\n",
        "\n",
        "# Convert the dataset to a numpy array\n",
        "data_array = data.to_numpy()"
      ]
    },
    {
      "cell_type": "code",
      "execution_count": 3,
      "metadata": {
        "colab": {
          "base_uri": "https://localhost:8080/"
        },
        "id": "INqlXJnFx8vm",
        "outputId": "23f2b3e6-cb55-49d3-cfcc-f71cae66ee16"
      },
      "outputs": [
        {
          "data": {
            "text/plain": [
              "(11430, 47)"
            ]
          },
          "execution_count": 3,
          "metadata": {},
          "output_type": "execute_result"
        }
      ],
      "source": [
        "data.shape"
      ]
    },
    {
      "cell_type": "code",
      "execution_count": 4,
      "metadata": {
        "colab": {
          "base_uri": "https://localhost:8080/",
          "height": 178
        },
        "id": "scBiXOBCus9d",
        "outputId": "5cb71f33-0898-4736-d4c3-587130f0aa9a"
      },
      "outputs": [
        {
          "data": {
            "text/plain": [
              "status\n",
              "0    5715\n",
              "1    5715\n",
              "Name: count, dtype: int64"
            ]
          },
          "execution_count": 4,
          "metadata": {},
          "output_type": "execute_result"
        }
      ],
      "source": [
        "data['status'].value_counts()"
      ]
    },
    {
      "cell_type": "code",
      "execution_count": 5,
      "metadata": {
        "id": "vYSFqj9KfJ97"
      },
      "outputs": [],
      "source": [
        "def gradient_penalty(critic, real_samples, fake_samples):\n",
        "    alpha = tf.random.uniform((real_samples.shape[0], 1), 0.0, 1.0)\n",
        "    interpolates = alpha * real_samples + (1 - alpha) * fake_samples\n",
        "    with tf.GradientTape() as tape:\n",
        "        tape.watch(interpolates)\n",
        "        critic_output = critic(interpolates)\n",
        "    gradients = tape.gradient(critic_output, interpolates)\n",
        "    gradient_norm = tf.sqrt(tf.reduce_sum(tf.square(gradients), axis=1))\n",
        "    penalty = tf.reduce_mean((gradient_norm - 1.0) ** 2)\n",
        "    return penalty\n"
      ]
    },
    {
      "cell_type": "code",
      "execution_count": 6,
      "metadata": {
        "id": "zyKd4XFSfMXh"
      },
      "outputs": [],
      "source": [
        "def build_generator(input_dim, output_dim):\n",
        "    input_layer = Input(shape=(input_dim,))\n",
        "    x = Dense(128)(input_layer)\n",
        "    x = LeakyReLU(0.2)(x)\n",
        "    x = BatchNormalization()(x)\n",
        "    x = Dense(256)(x)\n",
        "    x = LeakyReLU(0.2)(x)\n",
        "    x = BatchNormalization()(x)\n",
        "    x = Dense(output_dim, activation='tanh')(x)\n",
        "    return Model(input_layer, x)"
      ]
    },
    {
      "cell_type": "code",
      "execution_count": 7,
      "metadata": {
        "id": "CCQR5bEnfRLv"
      },
      "outputs": [],
      "source": [
        "def build_critic(input_dim):\n",
        "    input_layer = Input(shape=(input_dim,))\n",
        "    x = Dense(256)(input_layer)\n",
        "    x = LeakyReLU(0.2)(x)\n",
        "    x = Dense(128)(x)\n",
        "    x = LeakyReLU(0.2)(x)\n",
        "    x = Dense(1)(x)\n",
        "    return Model(input_layer, x)"
      ]
    },
    {
      "cell_type": "code",
      "execution_count": 8,
      "metadata": {
        "colab": {
          "base_uri": "https://localhost:8080/"
        },
        "id": "4D79VM-LfUqY",
        "outputId": "200dfcef-4992-4619-bc3a-82c238d189d0"
      },
      "outputs": [
        {
          "name": "stdout",
          "output_type": "stream",
          "text": [
            "Epoch 0, Critic Loss: 2.290828227996826, Generator Loss: 0.18195420503616333\n",
            "Epoch 100, Critic Loss: -3.5545647144317627, Generator Loss: -2.051039218902588\n",
            "Epoch 200, Critic Loss: -2.054831027984619, Generator Loss: -3.58658504486084\n",
            "Epoch 300, Critic Loss: -1.7173582315444946, Generator Loss: -2.700023651123047\n",
            "Epoch 400, Critic Loss: -1.3475443124771118, Generator Loss: -2.3401126861572266\n",
            "Epoch 500, Critic Loss: -1.3236554861068726, Generator Loss: -2.4573609828948975\n",
            "Epoch 600, Critic Loss: -1.17025625705719, Generator Loss: -2.4853532314300537\n",
            "Epoch 700, Critic Loss: -1.01381516456604, Generator Loss: -2.61824631690979\n",
            "Epoch 800, Critic Loss: -0.8775917887687683, Generator Loss: -2.6018965244293213\n",
            "Epoch 900, Critic Loss: -0.8461257815361023, Generator Loss: -2.7395362854003906\n",
            "Epoch 1000, Critic Loss: -0.6964156031608582, Generator Loss: -2.856597661972046\n",
            "Epoch 1100, Critic Loss: -0.7628809809684753, Generator Loss: -2.728287696838379\n",
            "Epoch 1200, Critic Loss: -0.6943181157112122, Generator Loss: -2.742884874343872\n",
            "Epoch 1300, Critic Loss: -0.6216426491737366, Generator Loss: -2.6673097610473633\n",
            "Epoch 1400, Critic Loss: -0.6313238143920898, Generator Loss: -2.4771640300750732\n",
            "Epoch 1500, Critic Loss: -0.5343632102012634, Generator Loss: -2.6621103286743164\n",
            "Epoch 1600, Critic Loss: -0.6586357355117798, Generator Loss: -2.4408113956451416\n",
            "Epoch 1700, Critic Loss: -0.47896406054496765, Generator Loss: -2.4590768814086914\n",
            "Epoch 1800, Critic Loss: -0.45392632484436035, Generator Loss: -2.41740083694458\n",
            "Epoch 1900, Critic Loss: -0.563977837562561, Generator Loss: -2.318143129348755\n",
            "Epoch 2000, Critic Loss: -0.5589773058891296, Generator Loss: -2.2641172409057617\n",
            "Epoch 2100, Critic Loss: -0.5608375668525696, Generator Loss: -2.2090985774993896\n",
            "Epoch 2200, Critic Loss: -0.5710260272026062, Generator Loss: -2.243044137954712\n",
            "Epoch 2300, Critic Loss: -0.4274545907974243, Generator Loss: -2.105625629425049\n",
            "Epoch 2400, Critic Loss: -0.4835502803325653, Generator Loss: -2.0470714569091797\n",
            "Epoch 2500, Critic Loss: -0.5220961570739746, Generator Loss: -2.0911736488342285\n",
            "Epoch 2600, Critic Loss: -0.5172070264816284, Generator Loss: -1.844602108001709\n",
            "Epoch 2700, Critic Loss: -0.4801836609840393, Generator Loss: -1.9496142864227295\n",
            "Epoch 2800, Critic Loss: -0.5134269595146179, Generator Loss: -1.965943455696106\n",
            "Epoch 2900, Critic Loss: -0.5145559310913086, Generator Loss: -1.8655074834823608\n",
            "Epoch 3000, Critic Loss: -0.5445345640182495, Generator Loss: -1.7983299493789673\n",
            "Epoch 3100, Critic Loss: -0.48890960216522217, Generator Loss: -1.7792162895202637\n",
            "Epoch 3200, Critic Loss: -0.4892069697380066, Generator Loss: -1.8649592399597168\n",
            "Epoch 3300, Critic Loss: -0.46106645464897156, Generator Loss: -1.799546718597412\n",
            "Epoch 3400, Critic Loss: -0.5102153420448303, Generator Loss: -1.676504373550415\n",
            "Epoch 3500, Critic Loss: -0.5211881995201111, Generator Loss: -1.7405012845993042\n",
            "Epoch 3600, Critic Loss: -0.42703768610954285, Generator Loss: -1.6173638105392456\n",
            "Epoch 3700, Critic Loss: -0.39568108320236206, Generator Loss: -1.8404386043548584\n",
            "Epoch 3800, Critic Loss: -0.3982519507408142, Generator Loss: -1.7449052333831787\n",
            "Epoch 3900, Critic Loss: -0.46906578540802, Generator Loss: -1.8327617645263672\n",
            "Epoch 4000, Critic Loss: -0.6027847528457642, Generator Loss: -1.758966088294983\n",
            "Epoch 4100, Critic Loss: -0.5345760583877563, Generator Loss: -1.8948665857315063\n",
            "Epoch 4200, Critic Loss: -0.38746851682662964, Generator Loss: -1.7550146579742432\n",
            "Epoch 4300, Critic Loss: -0.43446052074432373, Generator Loss: -1.8379324674606323\n",
            "Epoch 4400, Critic Loss: -0.5313835740089417, Generator Loss: -1.808797001838684\n",
            "Epoch 4500, Critic Loss: -0.510221540927887, Generator Loss: -1.7309881448745728\n",
            "Epoch 4600, Critic Loss: -0.41275784373283386, Generator Loss: -1.6697652339935303\n",
            "Epoch 4700, Critic Loss: -0.4708153307437897, Generator Loss: -1.8083245754241943\n",
            "Epoch 4800, Critic Loss: -0.5679959058761597, Generator Loss: -1.7474119663238525\n",
            "Epoch 4900, Critic Loss: -0.39511436223983765, Generator Loss: -1.8050358295440674\n",
            "Epoch 5000, Critic Loss: -0.4591277539730072, Generator Loss: -1.7238500118255615\n",
            "Epoch 5100, Critic Loss: -0.5555527806282043, Generator Loss: -1.8630943298339844\n",
            "Epoch 5200, Critic Loss: -0.5155210494995117, Generator Loss: -1.8437490463256836\n",
            "Epoch 5300, Critic Loss: -0.4611242115497589, Generator Loss: -1.6792080402374268\n",
            "Epoch 5400, Critic Loss: -0.3807953894138336, Generator Loss: -1.9117763042449951\n",
            "Epoch 5500, Critic Loss: -0.4695740342140198, Generator Loss: -1.8289546966552734\n",
            "Epoch 5600, Critic Loss: -0.5149807929992676, Generator Loss: -1.8121354579925537\n",
            "Epoch 5700, Critic Loss: -0.4966617226600647, Generator Loss: -1.7881176471710205\n",
            "Epoch 5800, Critic Loss: -0.40769821405410767, Generator Loss: -1.8136440515518188\n",
            "Epoch 5900, Critic Loss: -0.47418397665023804, Generator Loss: -1.8603508472442627\n",
            "Epoch 6000, Critic Loss: -0.5478208065032959, Generator Loss: -1.682347059249878\n",
            "Epoch 6100, Critic Loss: -0.5634477138519287, Generator Loss: -1.8323571681976318\n",
            "Epoch 6200, Critic Loss: -0.45756784081459045, Generator Loss: -1.863541841506958\n",
            "Epoch 6300, Critic Loss: -0.46491825580596924, Generator Loss: -1.9821635484695435\n",
            "Epoch 6400, Critic Loss: -0.39479634165763855, Generator Loss: -1.9750165939331055\n",
            "Epoch 6500, Critic Loss: -0.48671847581863403, Generator Loss: -1.782485842704773\n",
            "Epoch 6600, Critic Loss: -0.44955477118492126, Generator Loss: -1.8567955493927002\n",
            "Epoch 6700, Critic Loss: -0.392301470041275, Generator Loss: -1.8905155658721924\n",
            "Epoch 6800, Critic Loss: -0.5759654641151428, Generator Loss: -1.8305280208587646\n",
            "Epoch 6900, Critic Loss: -0.4848845303058624, Generator Loss: -1.8397321701049805\n",
            "Epoch 7000, Critic Loss: -0.4583529829978943, Generator Loss: -1.8293794393539429\n",
            "Epoch 7100, Critic Loss: -0.5256561636924744, Generator Loss: -1.7199056148529053\n",
            "Epoch 7200, Critic Loss: -0.5162806510925293, Generator Loss: -1.8532594442367554\n",
            "Epoch 7300, Critic Loss: -0.40389448404312134, Generator Loss: -2.0005385875701904\n",
            "Epoch 7400, Critic Loss: -0.5042720437049866, Generator Loss: -1.9079158306121826\n",
            "Epoch 7500, Critic Loss: -0.47143852710723877, Generator Loss: -1.9383020401000977\n",
            "Epoch 7600, Critic Loss: -0.49734407663345337, Generator Loss: -1.7397453784942627\n",
            "Epoch 7700, Critic Loss: -0.39332789182662964, Generator Loss: -1.7757467031478882\n",
            "Epoch 7800, Critic Loss: -0.4206194281578064, Generator Loss: -1.9453346729278564\n",
            "Epoch 7900, Critic Loss: -0.4334118962287903, Generator Loss: -1.8782176971435547\n",
            "Epoch 8000, Critic Loss: -0.4705888628959656, Generator Loss: -1.9330250024795532\n",
            "Epoch 8100, Critic Loss: -0.5120335221290588, Generator Loss: -1.8169376850128174\n",
            "Epoch 8200, Critic Loss: -0.55494624376297, Generator Loss: -1.951981782913208\n",
            "Epoch 8300, Critic Loss: -0.4518855810165405, Generator Loss: -1.7189732789993286\n",
            "Epoch 8400, Critic Loss: -0.4405907094478607, Generator Loss: -1.8069086074829102\n",
            "Epoch 8500, Critic Loss: -0.4625556170940399, Generator Loss: -1.999718427658081\n",
            "Epoch 8600, Critic Loss: -0.4416055679321289, Generator Loss: -1.82381010055542\n",
            "Epoch 8700, Critic Loss: -0.45731061697006226, Generator Loss: -1.776695728302002\n",
            "Epoch 8800, Critic Loss: -0.5213304162025452, Generator Loss: -1.8333789110183716\n",
            "Epoch 8900, Critic Loss: -0.497712641954422, Generator Loss: -1.5359688997268677\n",
            "Epoch 9000, Critic Loss: -0.4721722900867462, Generator Loss: -1.586812138557434\n",
            "Epoch 9100, Critic Loss: -0.47008615732192993, Generator Loss: -1.7894041538238525\n",
            "Epoch 9200, Critic Loss: -0.5583601593971252, Generator Loss: -1.7120845317840576\n",
            "Epoch 9300, Critic Loss: -0.430820494890213, Generator Loss: -1.4632987976074219\n",
            "Epoch 9400, Critic Loss: -0.5450457334518433, Generator Loss: -1.584568738937378\n",
            "Epoch 9500, Critic Loss: -0.39630818367004395, Generator Loss: -1.7644100189208984\n",
            "Epoch 9600, Critic Loss: -0.46999919414520264, Generator Loss: -1.5682787895202637\n",
            "Epoch 9700, Critic Loss: -0.4410668909549713, Generator Loss: -1.5779719352722168\n",
            "Epoch 9800, Critic Loss: -0.4616321921348572, Generator Loss: -1.6283997297286987\n",
            "Epoch 9900, Critic Loss: -0.43089795112609863, Generator Loss: -1.5366674661636353\n"
          ]
        }
      ],
      "source": [
        "# Hyperparameters\n",
        "input_dim = 100  # Noise dimension for generator\n",
        "output_dim = data_array.shape[1]  # Number of features\n",
        "batch_size = 64\n",
        "epochs = 10000\n",
        "critic_steps = 5  # Number of critic updates per generator update\n",
        "gp_weight = 10  # Gradient penalty weight\n",
        "\n",
        "# Initialize generator and critic\n",
        "generator = build_generator(input_dim, output_dim)\n",
        "critic = build_critic(output_dim)\n",
        "\n",
        "# Optimizers\n",
        "critic_optimizer = RMSprop(learning_rate=0.00005)\n",
        "generator_optimizer = RMSprop(learning_rate=0.00005)\n",
        "\n",
        "# Training loop\n",
        "for epoch in range(epochs):\n",
        "    for _ in range(critic_steps):\n",
        "        # Train the critic\n",
        "        real_samples = tf.convert_to_tensor(data_array[np.random.randint(0, data_array.shape[0], batch_size)], dtype=tf.float32)\n",
        "        noise = tf.random.normal((batch_size, input_dim))\n",
        "        fake_samples = generator(noise)\n",
        "        with tf.GradientTape() as tape:\n",
        "            real_output = critic(real_samples)\n",
        "            fake_output = critic(fake_samples)\n",
        "            gp = gradient_penalty(critic, real_samples, fake_samples)\n",
        "            critic_loss = tf.reduce_mean(fake_output) - tf.reduce_mean(real_output) + gp_weight * gp\n",
        "        grads = tape.gradient(critic_loss, critic.trainable_variables)\n",
        "        critic_optimizer.apply_gradients(zip(grads, critic.trainable_variables))\n",
        "\n",
        "    # Train the generator\n",
        "    noise = tf.random.normal((batch_size, input_dim))\n",
        "    with tf.GradientTape() as tape:\n",
        "        fake_samples = generator(noise)\n",
        "        fake_output = critic(fake_samples)\n",
        "        generator_loss = -tf.reduce_mean(fake_output)\n",
        "    grads = tape.gradient(generator_loss, generator.trainable_variables)\n",
        "    generator_optimizer.apply_gradients(zip(grads, generator.trainable_variables))\n",
        "\n",
        "    # Print losses\n",
        "    if epoch % 100 == 0:\n",
        "        print(f\"Epoch {epoch}, Critic Loss: {critic_loss.numpy()}, Generator Loss: {generator_loss.numpy()}\")\n"
      ]
    },
    {
      "cell_type": "code",
      "execution_count": 9,
      "metadata": {
        "id": "FxgoT7nntd6g"
      },
      "outputs": [],
      "source": [
        "# Generate synthetic data\n",
        "num_samples = 5000  # Number of synthetic samples to generate\n",
        "noise = tf.random.normal((num_samples, input_dim))\n",
        "synthetic_data = generator(noise).numpy()"
      ]
    },
    {
      "cell_type": "code",
      "execution_count": 30,
      "metadata": {},
      "outputs": [],
      "source": [
        "# Save the synthetic dataset\n",
        "synthetic_df = pd.DataFrame(synthetic_data, columns=data.columns)\n",
        "# synthetic_df.to_csv(\"synthetic_dataset1.csv\", index=False)"
      ]
    },
    {
      "cell_type": "code",
      "execution_count": 31,
      "metadata": {
        "colab": {
          "base_uri": "https://localhost:8080/",
          "height": 255
        },
        "id": "zLbfcdRHzgA5",
        "outputId": "22e888c0-c4df-4615-dc91-0fd0443f3b2c"
      },
      "outputs": [
        {
          "data": {
            "text/html": [
              "<div>\n",
              "<style scoped>\n",
              "    .dataframe tbody tr th:only-of-type {\n",
              "        vertical-align: middle;\n",
              "    }\n",
              "\n",
              "    .dataframe tbody tr th {\n",
              "        vertical-align: top;\n",
              "    }\n",
              "\n",
              "    .dataframe thead th {\n",
              "        text-align: right;\n",
              "    }\n",
              "</style>\n",
              "<table border=\"1\" class=\"dataframe\">\n",
              "  <thead>\n",
              "    <tr style=\"text-align: right;\">\n",
              "      <th></th>\n",
              "      <th>length_url</th>\n",
              "      <th>length_hostname</th>\n",
              "      <th>ip</th>\n",
              "      <th>nb_dots</th>\n",
              "      <th>nb_hyphens</th>\n",
              "      <th>nb_at</th>\n",
              "      <th>nb_qm</th>\n",
              "      <th>nb_and</th>\n",
              "      <th>nb_slash</th>\n",
              "      <th>nb_semicolumn</th>\n",
              "      <th>...</th>\n",
              "      <th>safe_anchor</th>\n",
              "      <th>empty_title</th>\n",
              "      <th>domain_in_title</th>\n",
              "      <th>domain_with_copyright</th>\n",
              "      <th>domain_registration_length</th>\n",
              "      <th>domain_age</th>\n",
              "      <th>dns_record</th>\n",
              "      <th>google_index</th>\n",
              "      <th>page_rank</th>\n",
              "      <th>status</th>\n",
              "    </tr>\n",
              "  </thead>\n",
              "  <tbody>\n",
              "    <tr>\n",
              "      <th>0</th>\n",
              "      <td>-0.975577</td>\n",
              "      <td>0.0</td>\n",
              "      <td>0.968555</td>\n",
              "      <td>-0.905084</td>\n",
              "      <td>-0.948305</td>\n",
              "      <td>-0.997928</td>\n",
              "      <td>-0.944212</td>\n",
              "      <td>-0.999067</td>\n",
              "      <td>-0.843977</td>\n",
              "      <td>-0.991314</td>\n",
              "      <td>...</td>\n",
              "      <td>0.844074</td>\n",
              "      <td>-1.000000</td>\n",
              "      <td>-0.913613</td>\n",
              "      <td>-0.996481</td>\n",
              "      <td>-0.995709</td>\n",
              "      <td>-0.759644</td>\n",
              "      <td>-0.998164</td>\n",
              "      <td>1.000000</td>\n",
              "      <td>-0.628078</td>\n",
              "      <td>0.891679</td>\n",
              "    </tr>\n",
              "    <tr>\n",
              "      <th>1</th>\n",
              "      <td>-0.999013</td>\n",
              "      <td>0.0</td>\n",
              "      <td>-1.000000</td>\n",
              "      <td>-0.916540</td>\n",
              "      <td>-0.978985</td>\n",
              "      <td>-1.000000</td>\n",
              "      <td>-0.993636</td>\n",
              "      <td>-0.999850</td>\n",
              "      <td>-0.855409</td>\n",
              "      <td>-0.999789</td>\n",
              "      <td>...</td>\n",
              "      <td>-0.952410</td>\n",
              "      <td>-1.000000</td>\n",
              "      <td>-1.000000</td>\n",
              "      <td>-0.999998</td>\n",
              "      <td>-0.999710</td>\n",
              "      <td>0.671134</td>\n",
              "      <td>-0.999999</td>\n",
              "      <td>-0.999998</td>\n",
              "      <td>0.107136</td>\n",
              "      <td>-0.282725</td>\n",
              "    </tr>\n",
              "    <tr>\n",
              "      <th>2</th>\n",
              "      <td>-0.991470</td>\n",
              "      <td>0.0</td>\n",
              "      <td>-1.000000</td>\n",
              "      <td>-0.951744</td>\n",
              "      <td>-0.998110</td>\n",
              "      <td>-1.000000</td>\n",
              "      <td>-0.999888</td>\n",
              "      <td>-0.999661</td>\n",
              "      <td>-0.953221</td>\n",
              "      <td>-0.999966</td>\n",
              "      <td>...</td>\n",
              "      <td>0.390918</td>\n",
              "      <td>-1.000000</td>\n",
              "      <td>1.000000</td>\n",
              "      <td>1.000000</td>\n",
              "      <td>-0.999413</td>\n",
              "      <td>-0.784167</td>\n",
              "      <td>-1.000000</td>\n",
              "      <td>-1.000000</td>\n",
              "      <td>-0.082629</td>\n",
              "      <td>-0.007084</td>\n",
              "    </tr>\n",
              "    <tr>\n",
              "      <th>3</th>\n",
              "      <td>-0.846905</td>\n",
              "      <td>0.0</td>\n",
              "      <td>0.679958</td>\n",
              "      <td>-0.140430</td>\n",
              "      <td>-0.949178</td>\n",
              "      <td>-0.995959</td>\n",
              "      <td>-0.848644</td>\n",
              "      <td>-0.606338</td>\n",
              "      <td>-0.706675</td>\n",
              "      <td>-0.903564</td>\n",
              "      <td>...</td>\n",
              "      <td>0.171343</td>\n",
              "      <td>-0.995098</td>\n",
              "      <td>0.999997</td>\n",
              "      <td>-0.913248</td>\n",
              "      <td>-0.991559</td>\n",
              "      <td>0.089532</td>\n",
              "      <td>-0.996767</td>\n",
              "      <td>0.999999</td>\n",
              "      <td>-0.638453</td>\n",
              "      <td>0.940375</td>\n",
              "    </tr>\n",
              "    <tr>\n",
              "      <th>4</th>\n",
              "      <td>-0.563017</td>\n",
              "      <td>0.0</td>\n",
              "      <td>-1.000000</td>\n",
              "      <td>-0.976690</td>\n",
              "      <td>-0.955488</td>\n",
              "      <td>-0.992141</td>\n",
              "      <td>-0.958409</td>\n",
              "      <td>-0.999761</td>\n",
              "      <td>-0.768809</td>\n",
              "      <td>-0.998500</td>\n",
              "      <td>...</td>\n",
              "      <td>-0.997128</td>\n",
              "      <td>0.484423</td>\n",
              "      <td>1.000000</td>\n",
              "      <td>-1.000000</td>\n",
              "      <td>-0.999732</td>\n",
              "      <td>-0.747233</td>\n",
              "      <td>-0.999977</td>\n",
              "      <td>1.000000</td>\n",
              "      <td>-0.919935</td>\n",
              "      <td>0.999957</td>\n",
              "    </tr>\n",
              "  </tbody>\n",
              "</table>\n",
              "<p>5 rows × 47 columns</p>\n",
              "</div>"
            ],
            "text/plain": [
              "   length_url  length_hostname        ip   nb_dots  nb_hyphens     nb_at  \\\n",
              "0   -0.975577              0.0  0.968555 -0.905084   -0.948305 -0.997928   \n",
              "1   -0.999013              0.0 -1.000000 -0.916540   -0.978985 -1.000000   \n",
              "2   -0.991470              0.0 -1.000000 -0.951744   -0.998110 -1.000000   \n",
              "3   -0.846905              0.0  0.679958 -0.140430   -0.949178 -0.995959   \n",
              "4   -0.563017              0.0 -1.000000 -0.976690   -0.955488 -0.992141   \n",
              "\n",
              "      nb_qm    nb_and  nb_slash  nb_semicolumn  ...  safe_anchor  empty_title  \\\n",
              "0 -0.944212 -0.999067 -0.843977      -0.991314  ...     0.844074    -1.000000   \n",
              "1 -0.993636 -0.999850 -0.855409      -0.999789  ...    -0.952410    -1.000000   \n",
              "2 -0.999888 -0.999661 -0.953221      -0.999966  ...     0.390918    -1.000000   \n",
              "3 -0.848644 -0.606338 -0.706675      -0.903564  ...     0.171343    -0.995098   \n",
              "4 -0.958409 -0.999761 -0.768809      -0.998500  ...    -0.997128     0.484423   \n",
              "\n",
              "   domain_in_title  domain_with_copyright  domain_registration_length  \\\n",
              "0        -0.913613              -0.996481                   -0.995709   \n",
              "1        -1.000000              -0.999998                   -0.999710   \n",
              "2         1.000000               1.000000                   -0.999413   \n",
              "3         0.999997              -0.913248                   -0.991559   \n",
              "4         1.000000              -1.000000                   -0.999732   \n",
              "\n",
              "   domain_age  dns_record  google_index  page_rank    status  \n",
              "0   -0.759644   -0.998164      1.000000  -0.628078  0.891679  \n",
              "1    0.671134   -0.999999     -0.999998   0.107136 -0.282725  \n",
              "2   -0.784167   -1.000000     -1.000000  -0.082629 -0.007084  \n",
              "3    0.089532   -0.996767      0.999999  -0.638453  0.940375  \n",
              "4   -0.747233   -0.999977      1.000000  -0.919935  0.999957  \n",
              "\n",
              "[5 rows x 47 columns]"
            ]
          },
          "execution_count": 31,
          "metadata": {},
          "output_type": "execute_result"
        }
      ],
      "source": [
        "# synthetic_df.head()\n",
        "synthetic_df.head()"
      ]
    },
    {
      "cell_type": "code",
      "execution_count": 42,
      "metadata": {},
      "outputs": [],
      "source": [
        "synthetic_df['status'] = synthetic_df['status'].apply(lambda x: 1 if x >= 0.5 else 0)"
      ]
    },
    {
      "cell_type": "code",
      "execution_count": 43,
      "metadata": {
        "colab": {
          "base_uri": "https://localhost:8080/",
          "height": 178
        },
        "id": "-LJ5HynXzppc",
        "outputId": "c57369e7-dd0f-4613-9e2f-7c8beffff436"
      },
      "outputs": [
        {
          "data": {
            "text/plain": [
              "status\n",
              "1    2538\n",
              "0    2462\n",
              "Name: count, dtype: int64"
            ]
          },
          "execution_count": 43,
          "metadata": {},
          "output_type": "execute_result"
        }
      ],
      "source": [
        "synthetic_df['status'].value_counts()\n",
        "# synthetic_df['status'].value_counts()"
      ]
    },
    {
      "cell_type": "code",
      "execution_count": 44,
      "metadata": {},
      "outputs": [
        {
          "data": {
            "text/plain": [
              "Index(['length_url', 'length_hostname', 'ip', 'nb_dots', 'nb_hyphens', 'nb_at',\n",
              "       'nb_qm', 'nb_and', 'nb_slash', 'nb_semicolumn', 'nb_www', 'nb_com',\n",
              "       'https_token', 'ratio_digits_url', 'ratio_digits_host',\n",
              "       'tld_in_subdomain', 'abnormal_subdomain', 'nb_subdomains',\n",
              "       'prefix_suffix', 'shortening_service', 'length_words_raw',\n",
              "       'shortest_word_host', 'longest_words_raw', 'longest_word_host',\n",
              "       'avg_words_raw', 'avg_word_host', 'avg_word_path', 'phish_hints',\n",
              "       'suspecious_tld', 'statistical_report', 'nb_hyperlinks',\n",
              "       'ratio_intHyperlinks', 'ratio_extRedirection', 'external_favicon',\n",
              "       'links_in_tags', 'ratio_intMedia', 'ratio_extMedia', 'safe_anchor',\n",
              "       'empty_title', 'domain_in_title', 'domain_with_copyright',\n",
              "       'domain_registration_length', 'domain_age', 'dns_record',\n",
              "       'google_index', 'page_rank', 'status'],\n",
              "      dtype='object')"
            ]
          },
          "execution_count": 44,
          "metadata": {},
          "output_type": "execute_result"
        }
      ],
      "source": [
        "synthetic_df.columns"
      ]
    },
    {
      "cell_type": "code",
      "execution_count": 45,
      "metadata": {
        "id": "2BPcx6mOzRss"
      },
      "outputs": [],
      "source": [
        "# Save the synthetic dataset\n",
        "# synthetic_df = pd.DataFrame(synthetic_data, columns=data.columns)\n",
        "synthetic_df.to_csv(\"synthetic_dataset1.csv\", index=False)"
      ]
    },
    {
      "cell_type": "code",
      "execution_count": 46,
      "metadata": {
        "id": "fLAnlwT02OgA"
      },
      "outputs": [],
      "source": [
        "# Combine with original data\n",
        "combined_data = pd.concat([data, synthetic_df], ignore_index=True)"
      ]
    },
    {
      "cell_type": "code",
      "execution_count": 47,
      "metadata": {
        "colab": {
          "base_uri": "https://localhost:8080/"
        },
        "id": "FWoH2Ug_2co5",
        "outputId": "ef4c600d-01de-4bbd-8b56-3795470ba36f"
      },
      "outputs": [
        {
          "data": {
            "text/plain": [
              "(16430, 47)"
            ]
          },
          "execution_count": 47,
          "metadata": {},
          "output_type": "execute_result"
        }
      ],
      "source": [
        "combined_data.shape"
      ]
    },
    {
      "cell_type": "code",
      "execution_count": 48,
      "metadata": {
        "colab": {
          "base_uri": "https://localhost:8080/",
          "height": 255
        },
        "id": "FrLlLJ7-3CiP",
        "outputId": "0cd844ca-9ae9-4947-809e-7eb5b8fcd6a8"
      },
      "outputs": [
        {
          "data": {
            "text/html": [
              "<div>\n",
              "<style scoped>\n",
              "    .dataframe tbody tr th:only-of-type {\n",
              "        vertical-align: middle;\n",
              "    }\n",
              "\n",
              "    .dataframe tbody tr th {\n",
              "        vertical-align: top;\n",
              "    }\n",
              "\n",
              "    .dataframe thead th {\n",
              "        text-align: right;\n",
              "    }\n",
              "</style>\n",
              "<table border=\"1\" class=\"dataframe\">\n",
              "  <thead>\n",
              "    <tr style=\"text-align: right;\">\n",
              "      <th></th>\n",
              "      <th>length_url</th>\n",
              "      <th>length_hostname</th>\n",
              "      <th>ip</th>\n",
              "      <th>nb_dots</th>\n",
              "      <th>nb_hyphens</th>\n",
              "      <th>nb_at</th>\n",
              "      <th>nb_qm</th>\n",
              "      <th>nb_and</th>\n",
              "      <th>nb_slash</th>\n",
              "      <th>nb_semicolumn</th>\n",
              "      <th>...</th>\n",
              "      <th>safe_anchor</th>\n",
              "      <th>empty_title</th>\n",
              "      <th>domain_in_title</th>\n",
              "      <th>domain_with_copyright</th>\n",
              "      <th>domain_registration_length</th>\n",
              "      <th>domain_age</th>\n",
              "      <th>dns_record</th>\n",
              "      <th>google_index</th>\n",
              "      <th>page_rank</th>\n",
              "      <th>status</th>\n",
              "    </tr>\n",
              "  </thead>\n",
              "  <tbody>\n",
              "    <tr>\n",
              "      <th>0</th>\n",
              "      <td>-0.969306</td>\n",
              "      <td>-0.857143</td>\n",
              "      <td>-1.0</td>\n",
              "      <td>-0.826087</td>\n",
              "      <td>-1.000000</td>\n",
              "      <td>-1.0</td>\n",
              "      <td>-1.000000</td>\n",
              "      <td>-1.000000</td>\n",
              "      <td>-0.935484</td>\n",
              "      <td>-1.0</td>\n",
              "      <td>...</td>\n",
              "      <td>-1.00</td>\n",
              "      <td>-1.0</td>\n",
              "      <td>-1.0</td>\n",
              "      <td>1.0</td>\n",
              "      <td>-0.996916</td>\n",
              "      <td>-0.998293</td>\n",
              "      <td>1.0</td>\n",
              "      <td>1.0</td>\n",
              "      <td>-0.2</td>\n",
              "      <td>0</td>\n",
              "    </tr>\n",
              "    <tr>\n",
              "      <th>1</th>\n",
              "      <td>-0.920196</td>\n",
              "      <td>-0.819048</td>\n",
              "      <td>1.0</td>\n",
              "      <td>-1.000000</td>\n",
              "      <td>-1.000000</td>\n",
              "      <td>-1.0</td>\n",
              "      <td>-1.000000</td>\n",
              "      <td>-1.000000</td>\n",
              "      <td>-0.806452</td>\n",
              "      <td>-1.0</td>\n",
              "      <td>...</td>\n",
              "      <td>1.00</td>\n",
              "      <td>-1.0</td>\n",
              "      <td>1.0</td>\n",
              "      <td>-1.0</td>\n",
              "      <td>-0.994770</td>\n",
              "      <td>-0.103058</td>\n",
              "      <td>-1.0</td>\n",
              "      <td>1.0</td>\n",
              "      <td>-0.6</td>\n",
              "      <td>1</td>\n",
              "    </tr>\n",
              "    <tr>\n",
              "      <th>2</th>\n",
              "      <td>-0.860037</td>\n",
              "      <td>-0.561905</td>\n",
              "      <td>1.0</td>\n",
              "      <td>-0.739130</td>\n",
              "      <td>-0.953488</td>\n",
              "      <td>-1.0</td>\n",
              "      <td>-0.333333</td>\n",
              "      <td>-0.789474</td>\n",
              "      <td>-0.806452</td>\n",
              "      <td>-1.0</td>\n",
              "      <td>...</td>\n",
              "      <td>1.00</td>\n",
              "      <td>-1.0</td>\n",
              "      <td>1.0</td>\n",
              "      <td>-1.0</td>\n",
              "      <td>-0.998994</td>\n",
              "      <td>-0.376688</td>\n",
              "      <td>-1.0</td>\n",
              "      <td>1.0</td>\n",
              "      <td>-1.0</td>\n",
              "      <td>1</td>\n",
              "    </tr>\n",
              "    <tr>\n",
              "      <th>3</th>\n",
              "      <td>-0.992634</td>\n",
              "      <td>-0.933333</td>\n",
              "      <td>-1.0</td>\n",
              "      <td>-0.913043</td>\n",
              "      <td>-1.000000</td>\n",
              "      <td>-1.0</td>\n",
              "      <td>-1.000000</td>\n",
              "      <td>-1.000000</td>\n",
              "      <td>-1.000000</td>\n",
              "      <td>-1.0</td>\n",
              "      <td>...</td>\n",
              "      <td>0.25</td>\n",
              "      <td>-1.0</td>\n",
              "      <td>1.0</td>\n",
              "      <td>-1.0</td>\n",
              "      <td>-0.995776</td>\n",
              "      <td>-0.998293</td>\n",
              "      <td>-1.0</td>\n",
              "      <td>-1.0</td>\n",
              "      <td>-0.4</td>\n",
              "      <td>0</td>\n",
              "    </tr>\n",
              "    <tr>\n",
              "      <th>4</th>\n",
              "      <td>-0.947207</td>\n",
              "      <td>-0.895238</td>\n",
              "      <td>-1.0</td>\n",
              "      <td>-0.913043</td>\n",
              "      <td>-0.906977</td>\n",
              "      <td>-1.0</td>\n",
              "      <td>-1.000000</td>\n",
              "      <td>-1.000000</td>\n",
              "      <td>-0.806452</td>\n",
              "      <td>-1.0</td>\n",
              "      <td>...</td>\n",
              "      <td>-1.00</td>\n",
              "      <td>-1.0</td>\n",
              "      <td>-1.0</td>\n",
              "      <td>1.0</td>\n",
              "      <td>-0.984915</td>\n",
              "      <td>0.270681</td>\n",
              "      <td>-1.0</td>\n",
              "      <td>-1.0</td>\n",
              "      <td>0.2</td>\n",
              "      <td>0</td>\n",
              "    </tr>\n",
              "  </tbody>\n",
              "</table>\n",
              "<p>5 rows × 47 columns</p>\n",
              "</div>"
            ],
            "text/plain": [
              "   length_url  length_hostname   ip   nb_dots  nb_hyphens  nb_at     nb_qm  \\\n",
              "0   -0.969306        -0.857143 -1.0 -0.826087   -1.000000   -1.0 -1.000000   \n",
              "1   -0.920196        -0.819048  1.0 -1.000000   -1.000000   -1.0 -1.000000   \n",
              "2   -0.860037        -0.561905  1.0 -0.739130   -0.953488   -1.0 -0.333333   \n",
              "3   -0.992634        -0.933333 -1.0 -0.913043   -1.000000   -1.0 -1.000000   \n",
              "4   -0.947207        -0.895238 -1.0 -0.913043   -0.906977   -1.0 -1.000000   \n",
              "\n",
              "     nb_and  nb_slash  nb_semicolumn  ...  safe_anchor  empty_title  \\\n",
              "0 -1.000000 -0.935484           -1.0  ...        -1.00         -1.0   \n",
              "1 -1.000000 -0.806452           -1.0  ...         1.00         -1.0   \n",
              "2 -0.789474 -0.806452           -1.0  ...         1.00         -1.0   \n",
              "3 -1.000000 -1.000000           -1.0  ...         0.25         -1.0   \n",
              "4 -1.000000 -0.806452           -1.0  ...        -1.00         -1.0   \n",
              "\n",
              "   domain_in_title  domain_with_copyright  domain_registration_length  \\\n",
              "0             -1.0                    1.0                   -0.996916   \n",
              "1              1.0                   -1.0                   -0.994770   \n",
              "2              1.0                   -1.0                   -0.998994   \n",
              "3              1.0                   -1.0                   -0.995776   \n",
              "4             -1.0                    1.0                   -0.984915   \n",
              "\n",
              "   domain_age  dns_record  google_index  page_rank  status  \n",
              "0   -0.998293         1.0           1.0       -0.2       0  \n",
              "1   -0.103058        -1.0           1.0       -0.6       1  \n",
              "2   -0.376688        -1.0           1.0       -1.0       1  \n",
              "3   -0.998293        -1.0          -1.0       -0.4       0  \n",
              "4    0.270681        -1.0          -1.0        0.2       0  \n",
              "\n",
              "[5 rows x 47 columns]"
            ]
          },
          "execution_count": 48,
          "metadata": {},
          "output_type": "execute_result"
        }
      ],
      "source": [
        "combined_data.head()"
      ]
    },
    {
      "cell_type": "code",
      "execution_count": 50,
      "metadata": {
        "colab": {
          "base_uri": "https://localhost:8080/",
          "height": 178
        },
        "id": "P3fzRBO43Lz9",
        "outputId": "c97a9739-2ab4-4cb8-ea7c-4efde35fdf77"
      },
      "outputs": [
        {
          "data": {
            "text/plain": [
              "status\n",
              "1    8253\n",
              "0    8177\n",
              "Name: count, dtype: int64"
            ]
          },
          "execution_count": 50,
          "metadata": {},
          "output_type": "execute_result"
        }
      ],
      "source": [
        "combined_data['status'].value_counts()"
      ]
    },
    {
      "cell_type": "code",
      "execution_count": 52,
      "metadata": {
        "id": "kZxii_Zz2VpJ"
      },
      "outputs": [],
      "source": [
        "# Save the combined dataset to CSV\n",
        "combined_data.to_csv('combined_dataset1.csv', index=False)"
      ]
    },
    {
      "cell_type": "code",
      "execution_count": null,
      "metadata": {},
      "outputs": [],
      "source": []
    }
  ],
  "metadata": {
    "colab": {
      "provenance": []
    },
    "kernelspec": {
      "display_name": "Python 3",
      "name": "python3"
    },
    "language_info": {
      "codemirror_mode": {
        "name": "ipython",
        "version": 3
      },
      "file_extension": ".py",
      "mimetype": "text/x-python",
      "name": "python",
      "nbconvert_exporter": "python",
      "pygments_lexer": "ipython3",
      "version": "3.12.1"
    }
  },
  "nbformat": 4,
  "nbformat_minor": 0
}
